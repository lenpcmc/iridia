{
 "cells": [
  {
   "cell_type": "code",
   "execution_count": 2,
   "metadata": {},
   "outputs": [],
   "source": [
    "from __init__ import *\n",
    "\n",
    "from ase.geometry import get_distances\n",
    "\n",
    "from typing import Callable\n",
    "from numpy.typing import ArrayLike\n",
    "\n",
    "from scipy.special import erf"
   ]
  },
  {
   "cell_type": "code",
   "execution_count": 3,
   "metadata": {},
   "outputs": [
    {
     "name": "stdout",
     "output_type": "stream",
     "text": [
      "energy\n",
      "forces\n",
      "dipole\n",
      "charges\n"
     ]
    }
   ],
   "source": [
    "from ase import Atoms\n",
    "from ase.calculators.calculator import Calculator, all_changes, all_properties\n",
    "from ase.cell import Cell\n",
    "\n",
    "class PQEqCalculator(Calculator):\n",
    "    \"\"\" PQEq Calculator for ASE \"\"\"\n",
    "    implemented_properties = ( \"energy\", \"forces\", \"dipole\", \"charges\" )\n",
    "\n",
    "    def __init__(self, atoms: Atoms, rendition: int = 0) -> None:\n",
    "        return\n",
    "    \n",
    "    def calculate(self, atoms: Atoms, properties: list = implemented_properties):\n",
    "\n",
    "        if (\"energy\" in properties):\n",
    "            #pqeqEnergy(atoms)\n",
    "            print(\"energy\")\n",
    "        if (\"forces\" in properties):\n",
    "            #pqeqForces(atoms)\n",
    "            print(\"forces\")\n",
    "        if (\"dipole\" in properties):\n",
    "            #pqeqDipole(atoms)\n",
    "            print(\"dipole\")\n",
    "        if (\"charges\" in properties):\n",
    "            #pqeq(atoms)\n",
    "            print(\"charges\")\n",
    "\n",
    "        return \n",
    "\n",
    "calculator = PQEqCalculator(None)\n",
    "calculator.calculate(None)"
   ]
  },
  {
   "cell_type": "code",
   "execution_count": 4,
   "metadata": {},
   "outputs": [],
   "source": [
    "def loadParams(n: int = 1):\n",
    "    # Load Data\n",
    "    with open(f\"resources/params/PQEqParams{n}.csv\") as infile:\n",
    "        indata: list[str] = [ line.strip().split(',') for line in infile if '#' not in line ]\n",
    "\n",
    "    # Partition\n",
    "    par: list[str] = indata.pop(0)[1:]\n",
    "    elements: list[str] = [ entry[0] for entry in indata ]\n",
    "    atomParams: np.ndarray = np.array([ entry[1:] for entry in indata ], dtype = np.float_)\n",
    "    \n",
    "    # Format\n",
    "    params: dict[str,str: float] = { (p,e): atomParams[i,j] for j,p in enumerate(par) for i,e in enumerate(elements) }\n",
    "    return params"
   ]
  },
  {
   "cell_type": "code",
   "execution_count": null,
   "metadata": {},
   "outputs": [
    {
     "name": "stdout",
     "output_type": "stream",
     "text": [
      "(60, 60)\n"
     ]
    },
    {
     "ename": "ValueError",
     "evalue": "setting an array element with a sequence. The requested array has an inhomogeneous shape after 3 dimensions. The detected shape was (2, 60, 60) + inhomogeneous part.",
     "output_type": "error",
     "traceback": [
      "\u001b[0;31m---------------------------------------------------------------------------\u001b[0m",
      "\u001b[0;31mValueError\u001b[0m                                Traceback (most recent call last)",
      "\u001b[1;32m/workspaces/dva/pqeq.ipynb Cell 4\u001b[0m line \u001b[0;36m2\n\u001b[1;32m     <a href='vscode-notebook-cell://codespaces%2Bvigilant-pancake-4rrxv5r9r6gf55px/workspaces/dva/pqeq.ipynb#W3sdnNjb2RlLXJlbW90ZQ%3D%3D?line=26'>27</a>\u001b[0m atoms \u001b[39m=\u001b[39m ase_read(\u001b[39m\"\u001b[39m\u001b[39mwollastonite.cif\u001b[39m\u001b[39m\"\u001b[39m)\n\u001b[1;32m     <a href='vscode-notebook-cell://codespaces%2Bvigilant-pancake-4rrxv5r9r6gf55px/workspaces/dva/pqeq.ipynb#W3sdnNjb2RlLXJlbW90ZQ%3D%3D?line=27'>28</a>\u001b[0m r \u001b[39m=\u001b[39m get_distances(atoms\u001b[39m.\u001b[39mpositions)\n\u001b[0;32m---> <a href='vscode-notebook-cell://codespaces%2Bvigilant-pancake-4rrxv5r9r6gf55px/workspaces/dva/pqeq.ipynb#W3sdnNjb2RlLXJlbW90ZQ%3D%3D?line=28'>29</a>\u001b[0m E \u001b[39m=\u001b[39m C(r, atoms\u001b[39m.\u001b[39;49mget_chemical_symbols(), atoms\u001b[39m.\u001b[39;49mget_chemical_symbols())\n\u001b[1;32m     <a href='vscode-notebook-cell://codespaces%2Bvigilant-pancake-4rrxv5r9r6gf55px/workspaces/dva/pqeq.ipynb#W3sdnNjb2RlLXJlbW90ZQ%3D%3D?line=29'>30</a>\u001b[0m \u001b[39mprint\u001b[39m(E)\n",
      "\u001b[1;32m/workspaces/dva/pqeq.ipynb Cell 4\u001b[0m line \u001b[0;36m2\n\u001b[1;32m     <a href='vscode-notebook-cell://codespaces%2Bvigilant-pancake-4rrxv5r9r6gf55px/workspaces/dva/pqeq.ipynb#W3sdnNjb2RlLXJlbW90ZQ%3D%3D?line=16'>17</a>\u001b[0m exit()\n\u001b[1;32m     <a href='vscode-notebook-cell://codespaces%2Bvigilant-pancake-4rrxv5r9r6gf55px/workspaces/dva/pqeq.ipynb#W3sdnNjb2RlLXJlbW90ZQ%3D%3D?line=18'>19</a>\u001b[0m \u001b[39m# Energy Array\u001b[39;00m\n\u001b[0;32m---> <a href='vscode-notebook-cell://codespaces%2Bvigilant-pancake-4rrxv5r9r6gf55px/workspaces/dva/pqeq.ipynb#W3sdnNjb2RlLXJlbW90ZQ%3D%3D?line=19'>20</a>\u001b[0m eGaussCharges: np\u001b[39m.\u001b[39mndarray \u001b[39m=\u001b[39m erf(ralph \u001b[39m*\u001b[39;49m r) \u001b[39m/\u001b[39m r\n\u001b[1;32m     <a href='vscode-notebook-cell://codespaces%2Bvigilant-pancake-4rrxv5r9r6gf55px/workspaces/dva/pqeq.ipynb#W3sdnNjb2RlLXJlbW90ZQ%3D%3D?line=20'>21</a>\u001b[0m eGaussCharges[ np\u001b[39m.\u001b[39misclose(r, \u001b[39m0.\u001b[39m) ] \u001b[39m=\u001b[39m \u001b[39m2.\u001b[39m \u001b[39m*\u001b[39m ralph \u001b[39m/\u001b[39m np\u001b[39m.\u001b[39msqrt( np\u001b[39m.\u001b[39mpi )\n\u001b[1;32m     <a href='vscode-notebook-cell://codespaces%2Bvigilant-pancake-4rrxv5r9r6gf55px/workspaces/dva/pqeq.ipynb#W3sdnNjb2RlLXJlbW90ZQ%3D%3D?line=21'>22</a>\u001b[0m np\u001b[39m.\u001b[39mnan_to_num(eGaussCharges, \u001b[39m0.\u001b[39m)\n",
      "\u001b[0;31mValueError\u001b[0m: setting an array element with a sequence. The requested array has an inhomogeneous shape after 3 dimensions. The detected shape was (2, 60, 60) + inhomogeneous part."
     ]
    },
    {
     "ename": "",
     "evalue": "",
     "output_type": "error",
     "traceback": [
      "\u001b[1;31mThe Kernel crashed while executing code in the the current cell or a previous cell. Please review the code in the cell(s) to identify a possible cause of the failure. Click <a href='https://aka.ms/vscodeJupyterKernelCrash'>here</a> for more info. View Jupyter <a href='command:jupyter.viewOutput'>log</a> for further details."
     ]
    }
   ],
   "source": [
    "def alpha(elem: str, n: int = 0):\n",
    "    \"\"\" Alpha Coefficient for Gaussian Charge Distribution \"\"\"\n",
    "    params = loadParams(n)\n",
    "    elem: list[str] = [elem] if type(elem) == str else elem\n",
    "    Rk: np.ndarray = np.array([ params[\"Rs\", e] for e in elem ])\n",
    "    lambda_pqeq: float = 0.462770\n",
    "    return 0.5 * lambda_pqeq / Rk**2\n",
    "\n",
    "\n",
    "def C(r: np.ndarray, ai: list[str], aj: list[str]):\n",
    "    # Alpha Coefficients\n",
    "    aik: np.ndarray = np.stack([ alpha(ai) ], axis = 1)\n",
    "    ajl: np.ndarray = np.stack([ alpha(aj) ], axis = 0)\n",
    "    alph: np.ndarray = (aik * ajl) / (aik + ajl)\n",
    "    ralph: np.ndarray = np.sqrt(alph)\n",
    "    print(ralph.shape)\n",
    "\n",
    "    # Energy Array\n",
    "    print(f\"{erf(ralph * r) = }\")\n",
    "    print(f\"{erf(ralph * r)/r = }\")\n",
    "    eGaussCharges: np.ndarray = erf(ralph * r) / r\n",
    "    eGaussCharges[ np.isclose(r, 0.) ] = 2. * ralph / np.sqrt( np.pi )\n",
    "    np.nan_to_num(eGaussCharges, 0.)\n",
    "    np.fill_diagonal(eGaussCharges, 0.)\n",
    "\n",
    "    return eGaussCharges\n",
    "\n",
    "atoms = ase_read(\"wollastonite.cif\")\n",
    "r = get_distances(atoms.positions)\n",
    "E = C(r, atoms.get_chemical_symbols(), atoms.get_chemical_symbols())\n",
    "print(E)"
   ]
  },
  {
   "cell_type": "code",
   "execution_count": 9,
   "metadata": {},
   "outputs": [
    {
     "ename": "NameError",
     "evalue": "name 'H' is not defined",
     "output_type": "error",
     "traceback": [
      "\u001b[0;31m---------------------------------------------------------------------------\u001b[0m",
      "\u001b[0;31mNameError\u001b[0m                                 Traceback (most recent call last)",
      "\u001b[1;32m/workspaces/dva/pqeq.ipynb Cell 5\u001b[0m line \u001b[0;36m4\n\u001b[1;32m     <a href='vscode-notebook-cell://codespaces%2Bvigilant-pancake-4rrxv5r9r6gf55px/workspaces/dva/pqeq.ipynb#W2sdnNjb2RlLXJlbW90ZQ%3D%3D?line=35'>36</a>\u001b[0m     springEnergy \u001b[39m=\u001b[39m np\u001b[39m.\u001b[39msum([ Ks[e] \u001b[39m*\u001b[39m rcs[i] \u001b[39m/\u001b[39m \u001b[39m2\u001b[39m \u001b[39mfor\u001b[39;00m i,e \u001b[39min\u001b[39;00m \u001b[39menumerate\u001b[39m(elem) ])\n\u001b[1;32m     <a href='vscode-notebook-cell://codespaces%2Bvigilant-pancake-4rrxv5r9r6gf55px/workspaces/dva/pqeq.ipynb#W2sdnNjb2RlLXJlbW90ZQ%3D%3D?line=37'>38</a>\u001b[0m     \u001b[39m# Extrinsic Energy\u001b[39;00m\n\u001b[1;32m     <a href='vscode-notebook-cell://codespaces%2Bvigilant-pancake-4rrxv5r9r6gf55px/workspaces/dva/pqeq.ipynb#W2sdnNjb2RlLXJlbW90ZQ%3D%3D?line=38'>39</a>\u001b[0m     \u001b[39m#Eicis = C()\u001b[39;00m\n\u001b[0;32m---> <a href='vscode-notebook-cell://codespaces%2Bvigilant-pancake-4rrxv5r9r6gf55px/workspaces/dva/pqeq.ipynb#W2sdnNjb2RlLXJlbW90ZQ%3D%3D?line=40'>41</a>\u001b[0m pqeqEnergy([\u001b[39m1.\u001b[39m,\u001b[39m0\u001b[39m], [\u001b[39m1.\u001b[39m,\u001b[39m0\u001b[39m], [\u001b[39m1.\u001b[39m,\u001b[39m0\u001b[39m], H)\n",
      "\u001b[0;31mNameError\u001b[0m: name 'H' is not defined"
     ]
    }
   ],
   "source": [
    "def pqeqEnergy(\n",
    "    charges: np.ndarray[float],\n",
    "   positions: np.ndarray[float],\n",
    "    spositions: np.ndarray[float],\n",
    "    elem: list[str],\n",
    "    cell: Cell = None,\n",
    "    pbc: list[bool] = None,\n",
    "    n: int = 1\n",
    "    ):\n",
    "    \"\"\" Energy of a set of atoms in PQEq \"\"\"\n",
    "\n",
    "    # Shorthand\n",
    "    q: np.ndarray[float] = np.array(charges)\n",
    "    pos: np.ndarray[float] = np.array(positions)\n",
    "    spos: np.ndarray[float] = np.array(spositions)\n",
    "    elem: list[str] = list(elem)\n",
    "\n",
    "    # PQEq Parameters\n",
    "    params: dict[str,str: float] = loadParams(n)\n",
    "    Xo: np.ndarray[float] = np.array([ params[\"Xo\", e] for e in elem ])\n",
    "    Jo: np.ndarray[float] = np.array([ params[\"Jo\", e] for e in elem ])\n",
    "    Ks: np.ndarray[float] = np.array([ params[\"Ks\", e] for e in elem ])\n",
    "\n",
    "    # Atomic Distances\n",
    "    ricjc: np.ndarray = get_distances(positions, positions, cell, pbc)[1]\n",
    "    ricjs: np.ndarray = get_distances(positions, spositions, cell, pbc)[1]\n",
    "    risjc: np.ndarray = get_distances(spositions, positions, cell, pbc)[1]\n",
    "    risjs: np.ndarray = get_distances(positions, spositions, cell, pbc)[1]\n",
    "\n",
    "    # Intrinsic Energy\n",
    "    XoEnergy: np.ndarray = Xo * q\n",
    "    JoEnergy: np.ndarray = Jo * q**2 / 2\n",
    "    sprintEnergy: np.ndarray = Ks * np.diag(ricjs)**2 / 2\n",
    "\n",
    "    # Extrinsic Energy\n",
    "    Eicjc = C()\n",
    "    Eicjs = C()\n",
    "    Eisjc = C()\n",
    "    Eisjs = C()\n",
    "\n"
   ]
  }
 ],
 "metadata": {
  "language_info": {
   "name": "python"
  }
 },
 "nbformat": 4,
 "nbformat_minor": 2
}
