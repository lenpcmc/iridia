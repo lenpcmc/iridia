{
 "cells": [
  {
   "cell_type": "code",
   "execution_count": 2,
   "metadata": {},
   "outputs": [],
   "source": [
    "import numpy as np\n",
    "from scipy.special import erf\n",
    "\n",
    "from ase.geometry import get_distances\n",
    "from pymatgen.io.ase import MSONAtoms\n",
    "\n",
    "from tqdm import tqdm\n",
    "\n",
    "enum = lambda x: tqdm(enumerate(x))"
   ]
  },
  {
   "cell_type": "code",
   "execution_count": null,
   "metadata": {},
   "outputs": [],
   "source": [
    "def loadParams(n: int = 1):\n",
    "    # Load Data\n",
    "    with open(f\"resources/params{n}.csv\") as infile:\n",
    "        indata: list[str] = [ line.strip().split(',') for line in infile if '#' not in line ]\n",
    "\n",
    "    # Partition\n",
    "    par: list[str] = indata.pop(0)[1:]\n",
    "    elements: list[str] = [ entry[0] for entry in indata ]\n",
    "    atomdata: np.ndarray = np.array([ entry[1:] for entry in indata ])\n",
    "    \n",
    "    # Format\n",
    "    params: dict[str,str: float] = { (p,e): atomdata[i,j] for j,p in enumerate(params) for i,e in enumerate(elements) }\n",
    "    return params"
   ]
  }
 ],
 "metadata": {
  "language_info": {
   "name": "python"
  }
 },
 "nbformat": 4,
 "nbformat_minor": 2
}
